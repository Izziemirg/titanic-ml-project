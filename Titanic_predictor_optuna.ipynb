{
  "cells": [
    {
      "cell_type": "code",
      "execution_count": null,
      "metadata": {
        "colab": {
          "base_uri": "https://localhost:8080/",
          "height": 74
        },
        "id": "EFejQdeX1zKS",
        "outputId": "0d821441-64e0-4109-bc24-519bc4c3404a"
      },
      "outputs": [],
      "source": [
        "from google.colab import files\n",
        "uploaded = files.upload()"
      ]
    },
    {
      "cell_type": "code",
      "execution_count": null,
      "metadata": {
        "colab": {
          "base_uri": "https://localhost:8080/",
          "height": 1000
        },
        "id": "MloSpoqUvqcI",
        "outputId": "0fda332d-4115-4e31-f81f-f7fd59ef23b0"
      },
      "outputs": [],
      "source": [
        "!pip install \"mxnet<2.0.0\"\n",
        "!pip install autogluon"
      ]
    },
    {
      "cell_type": "code",
      "execution_count": null,
      "metadata": {
        "colab": {
          "base_uri": "https://localhost:8080/"
        },
        "id": "1YEX7LfMxAK4",
        "outputId": "aa5024c9-faef-4daa-e652-89b5b5c7a610"
      },
      "outputs": [],
      "source": [
        "from autogluon.tabular import TabularPredictor\n",
        "print(\"Successfully imported TabularPredictor!\")"
      ]
    },
    {
      "cell_type": "code",
      "execution_count": null,
      "metadata": {
        "id": "ocaT8PjgxSaf"
      },
      "outputs": [],
      "source": [
        "import pandas as pd\n",
        "import numpy as np"
      ]
    },
    {
      "cell_type": "code",
      "execution_count": null,
      "metadata": {
        "id": "m2pTUxl3xSRH"
      },
      "outputs": [],
      "source": [
        "train = pd.read_csv(\"Titanic_Dataset.csv\")\n",
        "test = pd.read_csv(\"Titanic_Dataset.csv\")"
      ]
    },
    {
      "cell_type": "code",
      "execution_count": null,
      "metadata": {
        "colab": {
          "base_uri": "https://localhost:8080/",
          "height": 1000
        },
        "id": "GbpPo3PA0sXn",
        "outputId": "4f945dd5-bf97-49c6-ec55-5c8ec3ab425d"
      },
      "outputs": [],
      "source": [
        "train.head()"
      ]
    },
    {
      "cell_type": "code",
      "execution_count": null,
      "metadata": {
        "id": "9gSiSSKL2H3L"
      },
      "outputs": [],
      "source": [
        "def add_salutations(dataset):\n",
        "    dataset[\"Salutations\"] = dataset[\"Name\"].str.split(\", \", expand=True)[1].str.split(\".\", expand=True)[0]\n",
        "    return dataset\n",
        "\n",
        "def replace_rare_titles(dataset):\n",
        "    dataset[\"Salutations\"] = dataset[\"Salutations\"].replace([\"Mlle\", \"Ms\"], \"Miss\")\n",
        "    dataset[\"Salutations\"] = dataset[\"Salutations\"].replace(\"Mme\", \"Mrs\")\n",
        "    dataset[\"Salutations\"] = dataset[\"Salutations\"].replace(\n",
        "        [\"Lady\", \"Countess\",\"Capt\", \"Col\",\"Don\", \"Dr\", \"Major\", \"Rev\", \"Sir\", \"Dona\", \"Jonkheer\"], \"Rare\"\n",
        "    )\n",
        "    return dataset\n",
        "\n",
        "def calculate_family_size(dataset):\n",
        "    dataset[\"Family_size\"] = dataset.loc[:, [\"SibSp\", \"Parch\"]].sum(axis=1)\n",
        "    dataset[\"Family_size\"] = dataset[\"Family_size\"].apply(lambda x: x + 1)\n",
        "    return dataset\n",
        "\n",
        "def apply_feature_engineering(dataset):\n",
        "    dataset = add_salutations(dataset)\n",
        "    dataset = replace_rare_titles(dataset)\n",
        "    dataset = calculate_family_size(dataset)\n",
        "    return dataset\n",
        "\n",
        "train = apply_feature_engineering(train)\n",
        "test = apply_feature_engineering(test)"
      ]
    },
    {
      "cell_type": "code",
      "execution_count": null,
      "metadata": {
        "colab": {
          "base_uri": "https://localhost:8080/"
        },
        "id": "6H-YTamo500Z",
        "outputId": "7227e59d-bd10-46bf-e4ab-84629c065995"
      },
      "outputs": [],
      "source": [
        "predictor = TabularPredictor(label=\"Survived\", eval_metric=\"accuracy\" ).fit(\n",
        "    train,\n",
        "    presets=\"best_quality\",\n",
        "    time_limit=600\n",
        ")"
      ]
    },
    {
      "cell_type": "code",
      "execution_count": null,
      "metadata": {
        "colab": {
          "base_uri": "https://localhost:8080/"
        },
        "id": "vDb5yaVg6u_4",
        "outputId": "56e37687-d6e1-4420-83d7-0022e4a4544b"
      },
      "outputs": [],
      "source": [
        "#AutoGluon supports 'GBM' for LightGBM, 'CAT' for CatBoost, and 'XGB' for XGBoost\n",
        "\n",
        "hyperparameters = {\n",
        "    \"GBM\" : {\"num_boost_round\" : 150, \"learning_rate\" : 0.05}, #Light GBM\n",
        "    \"CAT\" : {\"iterations\" : 500, \"learning_rate\" : 0.03}, #CatBoost\n",
        "    \"XGB\" : {\"n_estimators\" : 200, \"max_depth\" : 4} #XGBoost\n",
        "}\n",
        "\n",
        "#Training with custom hyperparameters\n",
        "predictor_tuned = TabularPredictor(label=\"Survived\", eval_metric=\"accuracy\").fit(\n",
        "    train_data = train,\n",
        "    hyperparameters=hyperparameters,\n",
        "    time_limit=600\n",
        ")\n",
        "\n",
        "#Summary of the hyperparameter-tuned models\n",
        "predictor_tuned.fit_summary()"
      ]
    },
    {
      "cell_type": "code",
      "execution_count": null,
      "metadata": {
        "colab": {
          "base_uri": "https://localhost:8080/",
          "height": 1000
        },
        "id": "G2Hssjwj8eyR",
        "outputId": "65546599-d630-4fd2-d56d-78ba270befbe"
      },
      "outputs": [],
      "source": [
        "#Train the model with ensembling (bagging + stacking)\n",
        "predictor_ensemble = TabularPredictor(label=\"Survived\").fit(\n",
        "    train_data=train,\n",
        "    hyperparameters=hyperparameters,\n",
        "    num_bag_folds=5,\n",
        "    num_stack_levels=2,\n",
        "    time_limit=1800\n",
        ")\n",
        "\n",
        "predictor_ensemble.leaderboard(silent=True)"
      ]
    },
    {
      "cell_type": "code",
      "execution_count": null,
      "metadata": {
        "colab": {
          "base_uri": "https://localhost:8080/"
        },
        "id": "q6M4Lyfg9XCk",
        "outputId": "1a180b5d-e5f5-46aa-b57c-e72cb9ca7490"
      },
      "outputs": [],
      "source": [
        "leaderboard = predictor_ensemble.leaderboard(silent=True)\n",
        "top_models = list(leaderboard[\"model\"].head(3))\n",
        "\n",
        "for model in top_models:\n",
        "    predictor_ensemble.refit_full(model=model)"
      ]
    },
    {
      "cell_type": "code",
      "execution_count": null,
      "metadata": {
        "id": "pWYonyxK-SeL"
      },
      "outputs": [],
      "source": [
        "predictions = predictor_ensemble.predict(test)\n",
        "\n",
        "\n",
        "submission = pd.DataFrame({\n",
        "    \"PassengerId\": pd.read_csv(\"Titanic_Dataset.csv\")[\"PassengerId\"],\n",
        "    \"Survived\": predictions\n",
        "})\n",
        "\n",
        "submission.to_csv(\"submission.csv\", index=False)"
      ]
    },
    {
      "cell_type": "code",
      "execution_count": null,
      "metadata": {
        "colab": {
          "base_uri": "https://localhost:8080/"
        },
        "id": "99DqvXIYe53C",
        "outputId": "6a6c9ba2-a774-4783-95fe-56f1a58d18c4"
      },
      "outputs": [],
      "source": [
        "!pip install optuna"
      ]
    },
    {
      "cell_type": "code",
      "execution_count": null,
      "metadata": {
        "id": "rT2yNelfdngR"
      },
      "outputs": [],
      "source": [
        "!pip install -q tqdm"
      ]
    },
    {
      "cell_type": "code",
      "execution_count": null,
      "metadata": {
        "colab": {
          "base_uri": "https://localhost:8080/",
          "height": 1000,
          "referenced_widgets": [
            "ccb713367cb34b5aac99f0ed9b8b37c3",
            "c22e950709f6417b88ec63faebf09e3c",
            "1d9d3d1eda9d475699fef2f6e507ecc4",
            "dc297f1c0e35440295a7a86ebf3c99d2",
            "0acb30840ac04644bf9af4f71c78cb66",
            "6e1e4f1ede6a43a2bce69baa8febf27b",
            "3b438ac7dcaf4218a3ba063dd37273c4",
            "98282c8932744afaa114f7f34dec763e",
            "8a00716a2a744eaaba1a793a7baa2d43",
            "c7ccf17025834779a523018ded0394de",
            "b035a19fa732488c83919552c680f082"
          ]
        },
        "id": "_Ih7PJlQe9CX",
        "outputId": "874b9e56-3176-493f-87da-3088946b6f66"
      },
      "outputs": [],
      "source": [
        "import optuna\n",
        "from sklearn.model_selection import train_test_split\n",
        "from autogluon.tabular import TabularPredictor\n",
        "from optuna.visualization import (\n",
        "    plot_optimization_history,\n",
        "    plot_param_importances,\n",
        "    plot_parallel_coordinate,\n",
        "    plot_slice\n",
        ")\n",
        "\n",
        "from tqdm.notebook import tqdm\n",
        "\n",
        "#Progress bar callback class\n",
        "\n",
        "class TQDMCallback:\n",
        "    def __init__(self, n_trials):\n",
        "        self.pbar = tqdm(total=n_trials, desc=\"Optuna Trials\")\n",
        "\n",
        "    def __call__(self, study, trial):\n",
        "        self.pbar.update(1)\n",
        "\n",
        "\n",
        "def objective(trial):\n",
        "    # Split the train data for internal validation during tuning\n",
        "    train_data, val_data = train_test_split(train, test_size=0.2, random_state=42)\n",
        "\n",
        "    # Suggest hyperparameters dynamically with Optuna\n",
        "    hyperparameters = {\n",
        "        \"GBM\": {\n",
        "            \"num_boost_round\": trial.suggest_int(\"gbm_num_boost_round\", 100, 300),\n",
        "            \"learning_rate\": trial.suggest_float(\"gbm_learning_rate\", 0.01, 0.1, log=True),\n",
        "        },\n",
        "        \"CAT\": {\n",
        "            \"iterations\": trial.suggest_int(\"cat_iterations\", 100, 700),\n",
        "            \"learning_rate\": trial.suggest_float(\"cat_learning_rate\", 0.01, 0.1, log=True),\n",
        "        },\n",
        "        \"XGB\": {\n",
        "            \"n_estimators\": trial.suggest_int(\"xgb_n_estimators\", 100, 300),\n",
        "            \"max_depth\": trial.suggest_int(\"xgb_max_depth\", 3, 10),\n",
        "        }\n",
        "    }\n",
        "\n",
        "    # Train ensemble with your hyperparameters, bagging, and stacking\n",
        "    predictor = TabularPredictor(label=\"Survived\", eval_metric=\"accuracy\").fit(\n",
        "        train_data=train_data,\n",
        "        hyperparameters=hyperparameters,\n",
        "        num_bag_folds=5,\n",
        "        num_stack_levels=2,\n",
        "        time_limit=1800,\n",
        "        verbosity=0\n",
        "    )\n",
        "\n",
        "    # Evaluate on validation data\n",
        "    perf = predictor.evaluate(val_data, silent=True)\n",
        "    accuracy = perf['accuracy']\n",
        "    return accuracy\n",
        "\n",
        "n_trials = 10\n",
        "\n",
        "    # Create or load Optuna study with SQLite storage\n",
        "study = optuna.create_study(\n",
        "    direction=\"maximize\",\n",
        "    study_name=\"titanic_opt\",\n",
        "    storage=\"sqlite:///titanic_opt.db\",\n",
        "    load_if_exists=True\n",
        ")\n",
        "\n",
        "# Optimize (you can increase n_trials)\n",
        "study = optuna.create_study(direction=\"maximize\")\n",
        "study.optimize(objective, n_trials=10)\n",
        "\n",
        "#Run progress bar\n",
        "study.optimize(objective, n_trials= n_trials, callbacks=[TQDMCallback(n_trials)])\n",
        "\n",
        "print(\"Best trial:\")\n",
        "print(study.best_trial.params)\n",
        "\n",
        "# Plot visualizations\n",
        "fig1 = plot_optimization_history(study).show()\n",
        "\n",
        "fig2 = plot_param_importances(study).show()\n",
        "\n",
        "fig3 = plot_parallel_coordinate(study).show()\n",
        "\n",
        "fig4 = plot_slice(study).show()\n"
      ]
    },
    {
      "cell_type": "code",
      "execution_count": null,
      "metadata": {
        "colab": {
          "base_uri": "https://localhost:8080/"
        },
        "id": "5n8DI5aPvi2i",
        "outputId": "fe933707-7e75-4ff9-ea93-3d69370b60cf"
      },
      "outputs": [],
      "source": [
        "#final model training\n",
        "\n",
        "from autogluon.tabular import TabularPredictor\n",
        "import pandas as pd\n",
        "\n",
        "# Best hyperparameters from your Optuna study\n",
        "final_hyperparameters = {\n",
        "    \"GBM\": {\n",
        "        \"num_boost_round\": 296,\n",
        "        \"learning_rate\": 0.06317323932761781,\n",
        "    },\n",
        "    \"CAT\": {\n",
        "        \"iterations\": 656,\n",
        "        \"learning_rate\": 0.042104502245723874,\n",
        "    },\n",
        "    \"XGB\": {\n",
        "        \"n_estimators\": 143,\n",
        "        \"max_depth\": 9,\n",
        "    }\n",
        "}\n",
        "\n",
        "# Retrain TabularPredictor on the full training data\n",
        "predictor = TabularPredictor(label=\"Survived\", eval_metric=\"accuracy\").fit(\n",
        "    train_data=train,  # full training set\n",
        "    hyperparameters=final_hyperparameters,\n",
        "    num_bag_folds=5,\n",
        "    num_stack_levels=2,\n",
        "    verbosity=2\n",
        ")\n",
        "\n",
        "# Make predictions on the test set\n",
        "predictions = predictor.predict(test)\n",
        "\n",
        "# Prepare submission file (assuming test has 'PassengerId')\n",
        "submission = pd.DataFrame({\n",
        "    \"PassengerId\": test[\"PassengerId\"],\n",
        "    \"Survived\": predictions\n",
        "})\n",
        "\n",
        "# Save to CSV\n",
        "submission.to_csv(\"submission.csv\", index=False)\n",
        "print(\"submission.csv file has been created!\")\n"
      ]
    },
    {
      "cell_type": "code",
      "execution_count": null,
      "metadata": {
        "id": "VutaGhNY0ENX"
      },
      "outputs": [],
      "source": [
        "#Best parameters from Optuna. DO NOT RUN THIS CELL.\n",
        "\n",
        "best_params = {\n",
        "    'gbm_num_boost_round': 296,\n",
        "    'gbm_learning_rate': 0.06317323932761781,\n",
        "    'cat_iterations': 656,\n",
        "    'cat_learning_rate': 0.042104502245723874,\n",
        "    'xgb_n_estimators': 143,\n",
        "    'xgb_max_depth': 9\n",
        "}"
      ]
    },
    {
      "cell_type": "code",
      "execution_count": null,
      "metadata": {
        "colab": {
          "base_uri": "https://localhost:8080/",
          "height": 1000
        },
        "id": "rabU3ibx0aT9",
        "outputId": "6185d2ab-840e-46d8-9674-b7f4a5dd9692"
      },
      "outputs": [],
      "source": [
        "#Compressed and trained model download\n",
        "\n",
        "!zip -r AutogluonModels.zip AutogluonModels\n",
        "from google.colab import files\n",
        "files.download(\"AutogluonModels.zip\")"
      ]
    },
    {
      "cell_type": "code",
      "execution_count": null,
      "metadata": {
        "colab": {
          "base_uri": "https://localhost:8080/"
        },
        "id": "kqpz7ORW0pGy",
        "outputId": "88bf618e-88d8-41f7-b305-1be09dc914ec"
      },
      "outputs": [],
      "source": [
        "#Upload of titanic_opt.db to Google drive\n",
        "\n",
        "from google.colab import drive\n",
        "drive.mount('/content/drive')\n",
        "\n",
        "!cp titanic_opt.db /content/drive/MyDrive/"
      ]
    }
  ],
  "metadata": {
    "colab": {
      "provenance": []
    },
    "kernelspec": {
      "display_name": "Python 3",
      "name": "python3"
    },
    "language_info": {
      "name": "python"
    },
    "widgets": {
      "application/vnd.jupyter.widget-state+json": {
        "0acb30840ac04644bf9af4f71c78cb66": {
          "model_module": "@jupyter-widgets/base",
          "model_module_version": "1.2.0",
          "model_name": "LayoutModel",
          "state": {
            "_model_module": "@jupyter-widgets/base",
            "_model_module_version": "1.2.0",
            "_model_name": "LayoutModel",
            "_view_count": null,
            "_view_module": "@jupyter-widgets/base",
            "_view_module_version": "1.2.0",
            "_view_name": "LayoutView",
            "align_content": null,
            "align_items": null,
            "align_self": null,
            "border": null,
            "bottom": null,
            "display": null,
            "flex": null,
            "flex_flow": null,
            "grid_area": null,
            "grid_auto_columns": null,
            "grid_auto_flow": null,
            "grid_auto_rows": null,
            "grid_column": null,
            "grid_gap": null,
            "grid_row": null,
            "grid_template_areas": null,
            "grid_template_columns": null,
            "grid_template_rows": null,
            "height": null,
            "justify_content": null,
            "justify_items": null,
            "left": null,
            "margin": null,
            "max_height": null,
            "max_width": null,
            "min_height": null,
            "min_width": null,
            "object_fit": null,
            "object_position": null,
            "order": null,
            "overflow": null,
            "overflow_x": null,
            "overflow_y": null,
            "padding": null,
            "right": null,
            "top": null,
            "visibility": null,
            "width": null
          }
        },
        "1d9d3d1eda9d475699fef2f6e507ecc4": {
          "model_module": "@jupyter-widgets/controls",
          "model_module_version": "1.5.0",
          "model_name": "FloatProgressModel",
          "state": {
            "_dom_classes": [],
            "_model_module": "@jupyter-widgets/controls",
            "_model_module_version": "1.5.0",
            "_model_name": "FloatProgressModel",
            "_view_count": null,
            "_view_module": "@jupyter-widgets/controls",
            "_view_module_version": "1.5.0",
            "_view_name": "ProgressView",
            "bar_style": "",
            "description": "",
            "description_tooltip": null,
            "layout": "IPY_MODEL_98282c8932744afaa114f7f34dec763e",
            "max": 10,
            "min": 0,
            "orientation": "horizontal",
            "style": "IPY_MODEL_8a00716a2a744eaaba1a793a7baa2d43",
            "value": 10
          }
        },
        "3b438ac7dcaf4218a3ba063dd37273c4": {
          "model_module": "@jupyter-widgets/controls",
          "model_module_version": "1.5.0",
          "model_name": "DescriptionStyleModel",
          "state": {
            "_model_module": "@jupyter-widgets/controls",
            "_model_module_version": "1.5.0",
            "_model_name": "DescriptionStyleModel",
            "_view_count": null,
            "_view_module": "@jupyter-widgets/base",
            "_view_module_version": "1.2.0",
            "_view_name": "StyleView",
            "description_width": ""
          }
        },
        "6e1e4f1ede6a43a2bce69baa8febf27b": {
          "model_module": "@jupyter-widgets/base",
          "model_module_version": "1.2.0",
          "model_name": "LayoutModel",
          "state": {
            "_model_module": "@jupyter-widgets/base",
            "_model_module_version": "1.2.0",
            "_model_name": "LayoutModel",
            "_view_count": null,
            "_view_module": "@jupyter-widgets/base",
            "_view_module_version": "1.2.0",
            "_view_name": "LayoutView",
            "align_content": null,
            "align_items": null,
            "align_self": null,
            "border": null,
            "bottom": null,
            "display": null,
            "flex": null,
            "flex_flow": null,
            "grid_area": null,
            "grid_auto_columns": null,
            "grid_auto_flow": null,
            "grid_auto_rows": null,
            "grid_column": null,
            "grid_gap": null,
            "grid_row": null,
            "grid_template_areas": null,
            "grid_template_columns": null,
            "grid_template_rows": null,
            "height": null,
            "justify_content": null,
            "justify_items": null,
            "left": null,
            "margin": null,
            "max_height": null,
            "max_width": null,
            "min_height": null,
            "min_width": null,
            "object_fit": null,
            "object_position": null,
            "order": null,
            "overflow": null,
            "overflow_x": null,
            "overflow_y": null,
            "padding": null,
            "right": null,
            "top": null,
            "visibility": null,
            "width": null
          }
        },
        "8a00716a2a744eaaba1a793a7baa2d43": {
          "model_module": "@jupyter-widgets/controls",
          "model_module_version": "1.5.0",
          "model_name": "ProgressStyleModel",
          "state": {
            "_model_module": "@jupyter-widgets/controls",
            "_model_module_version": "1.5.0",
            "_model_name": "ProgressStyleModel",
            "_view_count": null,
            "_view_module": "@jupyter-widgets/base",
            "_view_module_version": "1.2.0",
            "_view_name": "StyleView",
            "bar_color": null,
            "description_width": ""
          }
        },
        "98282c8932744afaa114f7f34dec763e": {
          "model_module": "@jupyter-widgets/base",
          "model_module_version": "1.2.0",
          "model_name": "LayoutModel",
          "state": {
            "_model_module": "@jupyter-widgets/base",
            "_model_module_version": "1.2.0",
            "_model_name": "LayoutModel",
            "_view_count": null,
            "_view_module": "@jupyter-widgets/base",
            "_view_module_version": "1.2.0",
            "_view_name": "LayoutView",
            "align_content": null,
            "align_items": null,
            "align_self": null,
            "border": null,
            "bottom": null,
            "display": null,
            "flex": null,
            "flex_flow": null,
            "grid_area": null,
            "grid_auto_columns": null,
            "grid_auto_flow": null,
            "grid_auto_rows": null,
            "grid_column": null,
            "grid_gap": null,
            "grid_row": null,
            "grid_template_areas": null,
            "grid_template_columns": null,
            "grid_template_rows": null,
            "height": null,
            "justify_content": null,
            "justify_items": null,
            "left": null,
            "margin": null,
            "max_height": null,
            "max_width": null,
            "min_height": null,
            "min_width": null,
            "object_fit": null,
            "object_position": null,
            "order": null,
            "overflow": null,
            "overflow_x": null,
            "overflow_y": null,
            "padding": null,
            "right": null,
            "top": null,
            "visibility": null,
            "width": null
          }
        },
        "b035a19fa732488c83919552c680f082": {
          "model_module": "@jupyter-widgets/controls",
          "model_module_version": "1.5.0",
          "model_name": "DescriptionStyleModel",
          "state": {
            "_model_module": "@jupyter-widgets/controls",
            "_model_module_version": "1.5.0",
            "_model_name": "DescriptionStyleModel",
            "_view_count": null,
            "_view_module": "@jupyter-widgets/base",
            "_view_module_version": "1.2.0",
            "_view_name": "StyleView",
            "description_width": ""
          }
        },
        "c22e950709f6417b88ec63faebf09e3c": {
          "model_module": "@jupyter-widgets/controls",
          "model_module_version": "1.5.0",
          "model_name": "HTMLModel",
          "state": {
            "_dom_classes": [],
            "_model_module": "@jupyter-widgets/controls",
            "_model_module_version": "1.5.0",
            "_model_name": "HTMLModel",
            "_view_count": null,
            "_view_module": "@jupyter-widgets/controls",
            "_view_module_version": "1.5.0",
            "_view_name": "HTMLView",
            "description": "",
            "description_tooltip": null,
            "layout": "IPY_MODEL_6e1e4f1ede6a43a2bce69baa8febf27b",
            "placeholder": "​",
            "style": "IPY_MODEL_3b438ac7dcaf4218a3ba063dd37273c4",
            "value": "Optuna Trials: 100%"
          }
        },
        "c7ccf17025834779a523018ded0394de": {
          "model_module": "@jupyter-widgets/base",
          "model_module_version": "1.2.0",
          "model_name": "LayoutModel",
          "state": {
            "_model_module": "@jupyter-widgets/base",
            "_model_module_version": "1.2.0",
            "_model_name": "LayoutModel",
            "_view_count": null,
            "_view_module": "@jupyter-widgets/base",
            "_view_module_version": "1.2.0",
            "_view_name": "LayoutView",
            "align_content": null,
            "align_items": null,
            "align_self": null,
            "border": null,
            "bottom": null,
            "display": null,
            "flex": null,
            "flex_flow": null,
            "grid_area": null,
            "grid_auto_columns": null,
            "grid_auto_flow": null,
            "grid_auto_rows": null,
            "grid_column": null,
            "grid_gap": null,
            "grid_row": null,
            "grid_template_areas": null,
            "grid_template_columns": null,
            "grid_template_rows": null,
            "height": null,
            "justify_content": null,
            "justify_items": null,
            "left": null,
            "margin": null,
            "max_height": null,
            "max_width": null,
            "min_height": null,
            "min_width": null,
            "object_fit": null,
            "object_position": null,
            "order": null,
            "overflow": null,
            "overflow_x": null,
            "overflow_y": null,
            "padding": null,
            "right": null,
            "top": null,
            "visibility": null,
            "width": null
          }
        },
        "ccb713367cb34b5aac99f0ed9b8b37c3": {
          "model_module": "@jupyter-widgets/controls",
          "model_module_version": "1.5.0",
          "model_name": "HBoxModel",
          "state": {
            "_dom_classes": [],
            "_model_module": "@jupyter-widgets/controls",
            "_model_module_version": "1.5.0",
            "_model_name": "HBoxModel",
            "_view_count": null,
            "_view_module": "@jupyter-widgets/controls",
            "_view_module_version": "1.5.0",
            "_view_name": "HBoxView",
            "box_style": "",
            "children": [
              "IPY_MODEL_c22e950709f6417b88ec63faebf09e3c",
              "IPY_MODEL_1d9d3d1eda9d475699fef2f6e507ecc4",
              "IPY_MODEL_dc297f1c0e35440295a7a86ebf3c99d2"
            ],
            "layout": "IPY_MODEL_0acb30840ac04644bf9af4f71c78cb66"
          }
        },
        "dc297f1c0e35440295a7a86ebf3c99d2": {
          "model_module": "@jupyter-widgets/controls",
          "model_module_version": "1.5.0",
          "model_name": "HTMLModel",
          "state": {
            "_dom_classes": [],
            "_model_module": "@jupyter-widgets/controls",
            "_model_module_version": "1.5.0",
            "_model_name": "HTMLModel",
            "_view_count": null,
            "_view_module": "@jupyter-widgets/controls",
            "_view_module_version": "1.5.0",
            "_view_name": "HTMLView",
            "description": "",
            "description_tooltip": null,
            "layout": "IPY_MODEL_c7ccf17025834779a523018ded0394de",
            "placeholder": "​",
            "style": "IPY_MODEL_b035a19fa732488c83919552c680f082",
            "value": " 10/10 [32:11&lt;00:00, 195.34s/it]"
          }
        }
      }
    }
  },
  "nbformat": 4,
  "nbformat_minor": 0
}
